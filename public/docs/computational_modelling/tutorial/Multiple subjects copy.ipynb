{
 "cells": [
  {
   "cell_type": "markdown",
   "metadata": {},
   "source": [
    "---\n",
    "title: \"5. Running the model for multiple subjects\"\n",
    "---\n",
    "\n",
    "# Updating value across subjects\n",
    "\n",
    "The model we've implemented so far works for a single subject, but we will typically want to run it for multiple subjects.\n"
   ]
  },
  {
   "cell_type": "markdown",
   "metadata": {},
   "source": [
    "## Imports\n",
    "\n",
    "First, we import necessary packages.\n"
   ]
  },
  {
   "cell_type": "code",
   "execution_count": 7,
   "metadata": {},
   "outputs": [],
   "source": [
    "import jax\n",
    "import numpy as np\n",
    "import jax.numpy as jnp\n",
    "from functools import partial\n",
    "from behavioural_modelling.decision_rules import softmax\n",
    "from behavioural_modelling.utils import choice_from_action_p\n",
    "from typing import Tuple\n",
    "import matplotlib.pyplot as plt\n",
    "import colormaps as cmaps\n",
    "import os, requests\n",
    "from matplotlib import font_manager, pyplot as plt\n",
    "\n",
    "# Some code to make figures look nicer\n",
    "url = 'https://github.com/google/fonts/blob/main/ofl/heebo/Heebo%5Bwght%5D.ttf?raw=true'\n",
    "r = requests.get(url)\n",
    "if r.status_code == 200:\n",
    "    with open('./Heebo.ttf', 'wb') as f: f.write(r.content)\n",
    "font_manager.fontManager.addfont('./Heebo.ttf')\n",
    "plt.rcParams.update({'lines.linewidth': 1, 'lines.solid_capstyle': 'butt', 'legend.fancybox': True, 'axes.facecolor': 'fafafa', 'savefig.edgecolor': 'fafafa', 'savefig.facecolor': 'fafafa', 'figure.subplot.left': 0.08, 'figure.subplot.right': 0.95, 'figure.subplot.bottom': 0.07, 'figure.facecolor': 'fafafa', 'figure.dpi': 80, 'lines.color': '383838', 'patch.edgecolor': '383838', 'text.color': '383838', 'axes.edgecolor': '383838', 'axes.labelcolor': '383838', 'xtick.color': '616161', 'ytick.color': '616161', 'font.family': 'Heebo', 'font.weight': 'regular', 'font.size': 12, 'axes.titlesize': 14, 'axes.labelsize': 12, 'xtick.labelsize': 10, 'ytick.labelsize': 10})\n"
   ]
  },
  {
   "cell_type": "markdown",
   "metadata": {},
   "source": [
    "## Functions from the previous section\n",
    "\n",
    "Here we'll copy the functions we've implemented in the previous sections."
   ]
  },
  {
   "cell_type": "code",
   "execution_count": 3,
   "metadata": {},
   "outputs": [],
   "source": [
    "@jax.jit\n",
    "def asymmetric_rescorla_wagner_update(\n",
    "    value: jax.typing.ArrayLike,\n",
    "    outcome: jax.typing.ArrayLike,\n",
    "    chosen: jax.typing.ArrayLike,\n",
    "    alpha_p: float,\n",
    "    alpha_n: float,\n",
    ") -> Tuple[jax.typing.ArrayLike, jax.typing.ArrayLike]:\n",
    "    \"\"\"\n",
    "    Updates the estimated value of a state or action using the Asymmetric Rescorla-Wagner learning rule.\n",
    "\n",
    "    The function calculates the prediction error as the difference between the actual outcome and the current\n",
    "    estimated value. It then updates the estimated value based on the prediction error and the learning rate,\n",
    "    which is determined by whether the prediction error is positive or negative.\n",
    "\n",
    "    Value estimates are only updated for chosen actions. For unchosen actions, the prediction error is set to 0.\n",
    "\n",
    "    Args:\n",
    "        value (float): The current estimated value of a state or action.\n",
    "        outcome (float): The actual reward received.\n",
    "        chosen (float): Binary indicator of whether the action was chosen (1) or not (0).\n",
    "        alpha_p (float): The learning rate used when the prediction error is positive.\n",
    "        alpha_n (float): The learning rate used when the prediction error is negative.\n",
    "\n",
    "    Returns:\n",
    "        Tuple[float, float]: The updated value and the prediction error.\n",
    "    \"\"\"\n",
    "\n",
    "    # Calculate the prediction error\n",
    "    prediction_error = outcome - value\n",
    "\n",
    "    # Set prediction error to 0 for unchosen actions\n",
    "    prediction_error = prediction_error * chosen\n",
    "\n",
    "    # Set the learning rate based on the sign of the prediction error\n",
    "    alpha_t = (alpha_p * (prediction_error > 0)) + (alpha_n * (prediction_error < 0))\n",
    "\n",
    "    # Update the value\n",
    "    value = value + alpha_t * prediction_error\n",
    "\n",
    "    return value, prediction_error\n",
    "\n",
    "def asymmetric_rescorla_wagner_update_choice(\n",
    "    value: jax.typing.ArrayLike,\n",
    "    outcome_key: Tuple[jax.typing.ArrayLike, jax.random.PRNGKey],\n",
    "    alpha_p: float,\n",
    "    alpha_n: float,\n",
    "    temperature: float,\n",
    "    n_actions: int,\n",
    ") -> np.ndarray:\n",
    "    \"\"\"\n",
    "    Updates the value estimate using the asymmetric Rescorla-Wagner algorithm, and chooses an\n",
    "    option based on the softmax function.\n",
    "\n",
    "    Args:\n",
    "        value (jax.typing.ArrayLike): The current value estimate.\n",
    "        outcome_key (Tuple[jax.typing.ArrayLike, jax.random.PRNGKey]): A tuple containing the outcome and the PRNG key.\n",
    "        alpha_p (float): The learning rate for positive outcomes.\n",
    "        alpha_n (float): The learning rate for negative outcomes.\n",
    "        temperature (float): The temperature parameter for softmax function.\n",
    "        n_actions (int): The number of actions to choose from.\n",
    "\n",
    "    Returns:\n",
    "        Tuple[np.ndarray, Tuple[jax.typing.ArrayLike, np.ndarray, int, np.ndarray]]:\n",
    "            - updated_value (jnp.ndarray): The updated value estimate.\n",
    "            - output_tuple (Tuple[jax.typing.ArrayLike, np.ndarray, int, np.ndarray]):\n",
    "                - value (jax.typing.ArrayLike): The original value estimate.\n",
    "                - choice_p (jnp.ndarray): The choice probabilities.\n",
    "                - choice (int): The chosen action.\n",
    "                - choice_array (jnp.ndarray): The chosen action in one-hot format.\n",
    "    \"\"\"\n",
    "\n",
    "    # Unpack outcome and key\n",
    "    outcome, key = outcome_key\n",
    "\n",
    "    # Get choice probabilities\n",
    "    choice_p = softmax(value[None, :], temperature).squeeze()\n",
    "\n",
    "    # Get choice\n",
    "    choice = choice_from_action_p(key, choice_p)\n",
    "\n",
    "    # Convert it to one-hot format\n",
    "    choice_array = jnp.zeros(n_actions, dtype=jnp.int16)\n",
    "    choice_array = choice_array.at[choice].set(1)\n",
    "\n",
    "    # Get the outcome and update the value estimate\n",
    "    updated_value, prediction_error = asymmetric_rescorla_wagner_update(\n",
    "        value,\n",
    "        outcome,\n",
    "        choice_array,\n",
    "        alpha_p,\n",
    "        alpha_n,\n",
    "    )\n",
    "\n",
    "    return updated_value, (value, choice_p, choice_array, prediction_error)\n",
    "\n",
    "asymmetric_rescorla_wagner_update_choice = jax.jit(asymmetric_rescorla_wagner_update_choice, static_argnums=(5,))"
   ]
  },
  {
   "cell_type": "markdown",
   "metadata": {},
   "source": [
    "## Turning our existing code into a function\n",
    "\n",
    "We had previously written some code to run our update function across multiple trials using `jax.lax.scan`. Here, we will turn this code into a function that can be called for multiple subjects."
   ]
  },
  {
   "cell_type": "code",
   "execution_count": 9,
   "metadata": {},
   "outputs": [],
   "source": [
    "def asymmetric_rescorla_wagner_update_choice_iterator(\n",
    "    outcomes: jax.typing.ArrayLike,\n",
    "    alpha_p: float,\n",
    "    alpha_n: float,\n",
    "    temperature: float,\n",
    "    n_actions: int,\n",
    "    key: jax.random.PRNGKey,\n",
    ") -> Tuple[jnp.ndarray, jnp.ndarray, jnp.ndarray, jnp.ndarray]:\n",
    "    \"\"\"\n",
    "    Updates the value estimates using the asymmetric Rescorla-Wagner algorithm and generates choices for each trial.\n",
    "\n",
    "    Args:\n",
    "        outcomes (jax.typing.ArrayLike): The outcomes for each trial.\n",
    "        alpha_p (float): The learning rate for positive outcomes.\n",
    "        alpha_n (float): The learning rate for negative outcomes.\n",
    "        temperature (float): The temperature parameter for the softmax function.\n",
    "        n_actions (int): The number of actions to choose from.\n",
    "        key (jax.random.PRNGKey): The random key.\n",
    "\n",
    "    Returns:\n",
    "        Tuple[jnp.ndarray, jnp.ndarray, jnp.ndarray, jnp.ndarray]:\n",
    "            - values (jnp.ndarray): The value estimates.\n",
    "            - choice_ps (jnp.ndarray): The choice probabilities.\n",
    "            - choices (jnp.ndarray): The chosen actions.\n",
    "            - prediction_errors (jnp.ndarray): The prediction errors.\n",
    "    \"\"\"\n",
    "\n",
    "    # Use partial to create a function with fixed parameters\n",
    "    asymmetric_rescorla_wagner_update_choice_partial = partial(\n",
    "        asymmetric_rescorla_wagner_update_choice,\n",
    "        alpha_p=alpha_p,\n",
    "        alpha_n=alpha_n,\n",
    "        temperature=temperature,\n",
    "        n_actions=n_actions,\n",
    "    )\n",
    "\n",
    "    # Generate random keys using JAX\n",
    "    keys = jax.random.split(key, N_TRIALS)\n",
    "\n",
    "    # Initialize the value estimates\n",
    "    value = jnp.ones(5) * 0.5\n",
    "\n",
    "    # Loop using scan\n",
    "    _, (values, choice_ps, choices, prediction_errors) = jax.lax.scan(\n",
    "        asymmetric_rescorla_wagner_update_choice_partial,\n",
    "        value,\n",
    "        (outcomes, keys),\n",
    "    )\n",
    "\n",
    "    return values, choice_ps, choices, prediction_errors\n",
    "\n",
    "# JIT\n",
    "asymmetric_rescorla_wagner_update_choice_iterator = jax.jit(asymmetric_rescorla_wagner_update_choice_iterator, static_argnums=(4,))"
   ]
  },
  {
   "cell_type": "markdown",
   "metadata": {},
   "source": [
    "We can then use our function as before to simulate data for a single subject."
   ]
  },
  {
   "cell_type": "code",
   "execution_count": 10,
   "metadata": {},
   "outputs": [],
   "source": [
    "# Number of trials\n",
    "N_TRIALS = 100\n",
    "\n",
    "# Reward probabilities for each of our 5 actions\n",
    "reward_probs = jnp.array([0.2, 0.4, 0.3, 0.1, 0.5])\n",
    "\n",
    "# Generate rewards for each trial for each action using Numpy\n",
    "# There's no need to use JAX for this\n",
    "rng = np.random.default_rng(0)\n",
    "rewards = rng.binomial(n=1, p=reward_probs, size=(N_TRIALS, len(reward_probs)))\n",
    "\n",
    "# Run the model\n",
    "(values, choice_ps, choices, prediction_errors) = asymmetric_rescorla_wagner_update_choice_iterator(\n",
    "    outcomes=rewards,\n",
    "    alpha_p=0.1,\n",
    "    alpha_n=0.2,\n",
    "    temperature=1.0,\n",
    "    n_actions=5,\n",
    "    key=jax.random.PRNGKey(0),\n",
    ")"
   ]
  },
  {
   "cell_type": "markdown",
   "metadata": {},
   "source": [
    "## Extending to multiple subjects\n",
    "\n",
    "Extending to multiple subjects is straightforward thanks to JAX's vectorization capabilities. We can use the `vmap` function to run our model for multiple subjects in parallel.\n",
    "\n",
    "When using `vmap`, we supply the function we want to run for each subject, and the axis along which we want to run it. For example, if we have a set of trial outcomes represented by a 2-dimensional array where the first dimension indexes the subject and the second dimension indexes the trial, we can run our model for each subject by setting `axis=0`.\n",
    "\n",
    "Here, we will create a `vmap`-ed version of our function. We will assume that the trial outcomes are the same for each subject, and that the parameters are different for each subject. "
   ]
  },
  {
   "cell_type": "code",
   "execution_count": 12,
   "metadata": {},
   "outputs": [],
   "source": [
    "asymmetric_rescorla_wagner_update_choice_iterator_vmap = jax.vmap(\n",
    "    asymmetric_rescorla_wagner_update_choice_iterator,\n",
    "    in_axes=(None, 0, 0, 0, None, None),\n",
    ")"
   ]
  },
  {
   "cell_type": "markdown",
   "metadata": {},
   "source": [
    "The key part here is the `in_axes` argument to `vmap`. This tells JAX which arguments to the function are different across subjects. In our case, the only arguments that change across subjects are the parameters, which are vectors with a single dimensions. We therefore set the corresponding value of `in_axes` to `0` for these arguments. The others are set to `None`, which indicates that they are the same for all subjects."
   ]
  },
  {
   "cell_type": "markdown",
   "metadata": {},
   "source": [
    "### Running the model for multiple subjects\n",
    "\n",
    "We can now take our `vmap`-ed function and run it for multiple subjects. We will simulate data for 40 subjects, each with 100 trials."
   ]
  },
  {
   "cell_type": "code",
   "execution_count": 18,
   "metadata": {},
   "outputs": [],
   "source": [
    "# Number of subjects\n",
    "N_SUBJECTS = 40\n",
    "\n",
    "# Generate parameter values for each subject\n",
    "alpha_p = np.random.uniform(0.1, 0.5, size=N_SUBJECTS)\n",
    "alpha_n = np.random.uniform(0.1, 0.5, size=N_SUBJECTS)\n",
    "temperature = np.random.uniform(0.1, 1.0, size=N_SUBJECTS)\n",
    "\n",
    "# Run the model for each subject\n",
    "# NOTE - this doesn't work if you pass keyword arguments\n",
    "values, choice_ps, choices, prediction_errors = asymmetric_rescorla_wagner_update_choice_iterator_vmap(\n",
    "    rewards,\n",
    "    alpha_p,\n",
    "    alpha_n,\n",
    "    temperature,\n",
    "    5,\n",
    "    jax.random.PRNGKey(0),\n",
    ")"
   ]
  },
  {
   "cell_type": "markdown",
   "metadata": {},
   "source": [
    "We can then plot the estimated value for a few subjects to see how they learn over time."
   ]
  },
  {
   "cell_type": "code",
   "execution_count": 26,
   "metadata": {},
   "outputs": [
    {
     "data": {
      "image/png": "[encoded data removed]",
      "text/plain": [
       "<Figure size 800x400 with 3 Axes>"
      ]
     },
     "metadata": {},
     "output_type": "display_data"
    }
   ],
   "source": [
    "# Plot the estimated values for the first 3 subjects, one subplot per subject\n",
    "fig, axs = plt.subplots(3, 1, figsize=(10, 5))\n",
    "\n",
    "for i in range(3):\n",
    "    axs[i].plot(values[i, :])\n",
    "    axs[i].set_title(f\"Subject {i + 1}\")\n",
    "    if i == 2:\n",
    "        axs[i].set_xlabel(\"Action\")\n",
    "    axs[i].set_ylabel(\"Estimated Value\")\n",
    "\n",
    "plt.tight_layout()\n",
    "\n"
   ]
  },
  {
   "cell_type": "markdown",
   "metadata": {},
   "source": [
    "### Extending further\n",
    "\n",
    "One of the nice things about the `vmap` functionality is that it is easily to extend. If we wanted to, we could add further dimensions to map across. For example, we could map across blocks of trials, or different conditions. This enables us to use our base update functions flexibly without losing performance.\n",
    "\n",
    "For example, we could first map across blocks, assuming our `outcomes` variable is a 2-dimensional array with the shape (n_blocks, n_trials):\n",
    "\n",
    "```python\n",
    "asymmetric_rescorla_wagner_update_choice_iterator_vmap_blocks = jax.vmap(\n",
    "    asymmetric_rescorla_wagner_update_choice_iterator,\n",
    "    in_axes=(0, None, None, None, None, None),\n",
    ")\n",
    "```\n",
    "\n",
    "Here, we would set `in_axes=(0, None, None, None, None, None)` because the first argument (the outcomes) changes across blocks, but the others do not (i.e., the parameter values are the same for each block within each subject).\n",
    "\n",
    "We could then map this function across subjects as before:\n",
    "\n",
    "```python\n",
    "asymmetric_rescorla_wagner_update_choice_iterator_vmap_blocks_subjects = jax.vmap(\n",
    "    asymmetric_rescorla_wagner_update_choice_iterator_vmap_blocks,\n",
    "    in_axes=(0, None, None, None, None, None),\n",
    ")\n",
    "```"
   ]
  },
  {
   "cell_type": "markdown",
   "metadata": {},
   "source": [
    "## Demonstrating why JAX is helpful\n",
    "\n",
    "A lot of this imlementation has probably seemed a little convoluted. However, the key advantage of using JAX is that it allows us to write code that is both flexible and efficient. By using `vmap`, we can write our base update functions in a way that is easy to understand and debug, and then use them in a flexible way without losing performance. This is a powerful feature that is unique to JAX.\n",
    "\n",
    "Speed isn't necessarily a huge issue when we're dealing with small samples of participants, but we're increasingly using datasets with hundreds of participants or more. In these cases, the efficiency of JAX can be a huge advantage, especially if we're running model fitting procedures that require many iterations (e.g., MCMC sampling).\n",
    "\n",
    "The vectorised operations we've used here (using `vmap`) are much faster than using for loops in Python. These operations can be sped up even further when run on a GPU, which JAX also supports without any need to change the code (if JAX detects a CUDA-compatible GPU, it will automatically run the code on the GPU). This can lead to huge speedups, especially for large datasets.\n",
    "\n",
    "To demonstrate this, we can compare the speed of our JAX implementation to a naive implementation that uses for loops to iterate over subjects and trials. We'll simulate data for 10000 subjects, each with 100 trials, and compare the speed of the two implementations."
   ]
  },
  {
   "cell_type": "code",
   "execution_count": 66,
   "metadata": {},
   "outputs": [],
   "source": [
    "N_SUBJECTS = 10000\n",
    "\n",
    "def rescorla_wagner_update(value, outcome, chosen, alpha_p, alpha_n):\n",
    "    # Calculate the prediction error\n",
    "    prediction_error = outcome - value\n",
    "\n",
    "    # Set unchosen actions to 0\n",
    "    prediction_error = prediction_error * chosen\n",
    "\n",
    "    # Get the alpha for this trial\n",
    "    alpha_t = (alpha_p * (prediction_error > 0)) + (alpha_n * (prediction_error < 0))\n",
    "\n",
    "    # Update the value\n",
    "    value = value + alpha_t * prediction_error\n",
    "\n",
    "    return value, prediction_error\n",
    "\n",
    "def softmax(value, temperature):\n",
    "    # Calculate the unnormalized probabilities\n",
    "    unnormalized_p = np.exp(value / temperature)\n",
    "\n",
    "    # Calculate the denominator\n",
    "    normalizing_constant = np.sum(unnormalized_p)\n",
    "\n",
    "    # Calculate the probabilities\n",
    "    p = unnormalized_p / normalizing_constant\n",
    "\n",
    "    return p\n",
    "\n",
    "def test_pure_python():\n",
    "\n",
    "    values = np.ones((N_SUBJECTS, N_TRIALS, 5)) * 0.5\n",
    "\n",
    "    # RNG\n",
    "    rng = np.random.default_rng(0)\n",
    "\n",
    "    # Generate parameter values for each subject\n",
    "    alpha_p = np.random.uniform(0.1, 0.5, size=N_SUBJECTS)\n",
    "    alpha_n = np.random.uniform(0.1, 0.5, size=N_SUBJECTS)\n",
    "    temperature = np.random.uniform(0.1, 1.0, size=N_SUBJECTS)\n",
    "\n",
    "    for subject in range(len(alpha_p)):\n",
    "        for trial in range(N_TRIALS - 1):\n",
    "\n",
    "            # Get the value estimate for the current trial\n",
    "            value = values[subject, trial]\n",
    "\n",
    "            # Get choice probabilities\n",
    "            choice_p = softmax(value, temperature[subject])\n",
    "\n",
    "            # Choose an action\n",
    "            choice = rng.choice(np.arange(5), p=choice_p)\n",
    "\n",
    "            # Convert to one-hot\n",
    "            choice_array = np.zeros(5)\n",
    "            choice_array[choice] = 1\n",
    "\n",
    "            # Update the value estimate using the Rescorla-Wagner learning rule\n",
    "            value, pe = rescorla_wagner_update(value, rewards[trial], choice_array, alpha_p[subject], alpha_n[subject])\n",
    "\n",
    "            # Store the updated value estimate\n",
    "            values[subject, trial] = value\n",
    "\n",
    "def test_jax():\n",
    "\n",
    "    # Generate parameter values for each subject\n",
    "    alpha_p = np.random.uniform(0.1, 0.5, size=N_SUBJECTS)\n",
    "    alpha_n = np.random.uniform(0.1, 0.5, size=N_SUBJECTS)\n",
    "    temperature = np.random.uniform(0.1, 1.0, size=N_SUBJECTS)\n",
    "\n",
    "    # Run the model for each subject\n",
    "    # NOTE - this doesn't work if you pass keyword arguments\n",
    "    values, choice_ps, choices, prediction_errors = asymmetric_rescorla_wagner_update_choice_iterator_vmap(\n",
    "        rewards,\n",
    "        alpha_p,\n",
    "        alpha_n,\n",
    "        temperature,\n",
    "        5,\n",
    "        jax.random.PRNGKey(0),\n",
    "    )\n"
   ]
  },
  {
   "cell_type": "markdown",
   "metadata": {},
   "source": [
    "First, we'll test the pure Python/Numpy implementation."
   ]
  },
  {
   "cell_type": "code",
   "execution_count": 67,
   "metadata": {},
   "outputs": [
    {
     "name": "stdout",
     "output_type": "stream",
     "text": [
      "CPU times: user 25.5 s, sys: 19.3 ms, total: 25.5 s\n",
      "Wall time: 25.5 s\n"
     ]
    }
   ],
   "source": [
    "%time test_pure_python()"
   ]
  },
  {
   "cell_type": "markdown",
   "metadata": {},
   "source": [
    "And next we'll test the JAX implementation."
   ]
  },
  {
   "cell_type": "code",
   "execution_count": 68,
   "metadata": {},
   "outputs": [
    {
     "name": "stdout",
     "output_type": "stream",
     "text": [
      "CPU times: user 232 ms, sys: 327 ms, total: 559 ms\n",
      "Wall time: 281 ms\n"
     ]
    }
   ],
   "source": [
    "%time test_jax()"
   ]
  },
  {
   "cell_type": "markdown",
   "metadata": {},
   "source": [
    "On my machine, the pure Python/Numpy implementation takes around 25 seconds, while the JAX implementation takes around 0.2 seconds. This is a huge speedup (around 100x), and the difference will be even more pronounced for larger datasets."
   ]
  }
 ],
 "metadata": {
  "kernelspec": {
   "display_name": "windows_general",
   "language": "python",
   "name": "python3"
  },
  "language_info": {
   "codemirror_mode": {
    "name": "ipython",
    "version": 3
   },
   "file_extension": ".py",
   "mimetype": "text/x-python",
   "name": "python",
   "nbconvert_exporter": "python",
   "pygments_lexer": "ipython3",
   "version": "3.10.14"
  }
 },
 "nbformat": 4,
 "nbformat_minor": 2
}
