{
 "cells": [
  {
   "cell_type": "markdown",
   "metadata": {},
   "source": [
    "---\n",
    "title: \"6. Model fitting using MCMC\"\n",
    "---\n",
    "\n",
    "# Model fitting using MCMC\n",
    "\n",
    "Next, we'll try fitting our model to some simulated data.\n"
   ]
  },
  {
   "cell_type": "markdown",
   "metadata": {},
   "source": [
    "## Imports\n",
    "\n",
    "First, we import necessary packages.\n"
   ]
  },
  {
   "cell_type": "code",
   "execution_count": 4,
   "metadata": {},
   "outputs": [],
   "source": [
    "import numpyro\n",
    "numpyro.set_host_device_count(4)  # Necessary to make numpyro realise we have more than one CPU\n",
    "import jax\n",
    "# set jax to use cpu\n",
    "jax.config.update('jax_platform_name', 'cpu')\n",
    "import numpy as np\n",
    "import jax.numpy as jnp\n",
    "from numpyro import distributions as dist\n",
    "from functools import partial\n",
    "from behavioural_modelling.decision_rules import softmax\n",
    "from behavioural_modelling.utils import choice_from_action_p\n",
    "from typing import Tuple, Union\n",
    "import matplotlib.pyplot as plt\n",
    "# import colormaps as cmaps\n",
    "import os, requests\n",
    "# from matplotlib import font_manager, pyplot as plt\n",
    "\n",
    "# # Some code to make figures look nicer\n",
    "# url = 'https://github.com/google/fonts/blob/main/ofl/heebo/Heebo%5Bwght%5D.ttf?raw=true'\n",
    "# r = requests.get(url)\n",
    "# if r.status_code == 200:\n",
    "#     with open('./Heebo.ttf', 'wb') as f: f.write(r.content)\n",
    "# font_manager.fontManager.addfont('./Heebo.ttf')\n",
    "# plt.rcParams.update({'lines.linewidth': 1, 'lines.solid_capstyle': 'butt', 'legend.fancybox': True, 'axes.facecolor': 'fafafa', 'savefig.edgecolor': 'fafafa', 'savefig.facecolor': 'fafafa', 'figure.subplot.left': 0.08, 'figure.subplot.right': 0.95, 'figure.subplot.bottom': 0.07, 'figure.facecolor': 'fafafa', 'figure.dpi': 80, 'lines.color': '383838', 'patch.edgecolor': '383838', 'text.color': '383838', 'axes.edgecolor': '383838', 'axes.labelcolor': '383838', 'xtick.color': '616161', 'ytick.color': '616161', 'font.family': 'Heebo', 'font.weight': 'regular', 'font.size': 12, 'axes.titlesize': 14, 'axes.labelsize': 12, 'xtick.labelsize': 10, 'ytick.labelsize': 10})\n"
   ]
  },
  {
   "cell_type": "markdown",
   "metadata": {},
   "source": [
    "## Functions from the previous section\n",
    "\n",
    "Here we'll (mostly) copy the functions we've implemented in the previous sections.\n",
    "\n",
    "### ⚠️ One important change\n",
    "\n",
    "We're going to update the basic `asymmetric_rescorla_wagner_update` function so that it is more compatible with `jax.lax.scan`, as we'll need to use this later.\n",
    "\n",
    "Rather than taking separate `outcome` and `chosen` arguments, representing the reward received on the current trial and the action chosen on the current trial, we'll instead take a single `outcome_chosen` argument, which is a tuple of `(outcome, chosen)`. As mentioned in previous sections, this is a common pattern in JAX code, as it allows us to use `jax.lax.scan` more easily (since it only supports functions with a single input argument).\n",
    "\n",
    "We'll also update its return values, so that it returns the `updated_value` and a tuple of `(prediction_error, value)`, rather than just `value`. This will make it easier to use with `jax.lax.scan` as well."
   ]
  },
  {
   "cell_type": "code",
   "execution_count": 5,
   "metadata": {},
   "outputs": [],
   "source": [
    "@jax.jit\n",
    "def asymmetric_rescorla_wagner_update(\n",
    "    value: jax.typing.ArrayLike,\n",
    "    outcome_chosen: Tuple[jax.typing.ArrayLike, jax.typing.ArrayLike],\n",
    "    alpha_p: float,\n",
    "    alpha_n: float,\n",
    ") -> Tuple[jax.typing.ArrayLike, jax.typing.ArrayLike]:\n",
    "    \"\"\"\n",
    "    Updates the estimated value of a state or action using the Asymmetric Rescorla-Wagner learning rule.\n",
    "\n",
    "    The function calculates the prediction error as the difference between the actual outcome and the current\n",
    "    estimated value. It then updates the estimated value based on the prediction error and the learning rate,\n",
    "    which is determined by whether the prediction error is positive or negative.\n",
    "\n",
    "    Value estimates are only updated for chosen actions. For unchosen actions, the prediction error is set to 0.\n",
    "\n",
    "    Args:\n",
    "        value (float): The current estimated value of a state or action.\n",
    "        outcome_chosen (Tuple[float, float]): A tuple containing the actual outcome and a binary value indicating\n",
    "            whether the action was chosen.\n",
    "        alpha_p (float): The learning rate used when the prediction error is positive.\n",
    "        alpha_n (float): The learning rate used when the prediction error is negative.\n",
    "\n",
    "    Returns:\n",
    "        Tuple[float, float]: The updated value and the prediction error.\n",
    "    \"\"\"\n",
    "\n",
    "    # Unpack the outcome and the chosen action\n",
    "    outcome, chosen = outcome_chosen\n",
    "\n",
    "    # Calculate the prediction error\n",
    "    prediction_error = outcome - value\n",
    "\n",
    "    # Set prediction error to 0 for unchosen actions\n",
    "    prediction_error = prediction_error * chosen\n",
    "\n",
    "    # Set the learning rate based on the sign of the prediction error\n",
    "    alpha_t = (alpha_p * (prediction_error > 0)) + (alpha_n * (prediction_error < 0))\n",
    "\n",
    "    # Update the value\n",
    "    updated_value = value + alpha_t * prediction_error\n",
    "\n",
    "    return updated_value, (value, prediction_error)\n",
    "\n",
    "def asymmetric_rescorla_wagner_update_choice(\n",
    "    value: jax.typing.ArrayLike,\n",
    "    outcome_key: Tuple[jax.typing.ArrayLike, jax.random.PRNGKey],\n",
    "    alpha_p: float,\n",
    "    alpha_n: float,\n",
    "    temperature: float,\n",
    "    n_actions: int,\n",
    ") -> np.ndarray:\n",
    "    \"\"\"\n",
    "    Updates the value estimate using the asymmetric Rescorla-Wagner algorithm, and chooses an\n",
    "    option based on the softmax function.\n",
    "\n",
    "    Args:\n",
    "        value (jax.typing.ArrayLike): The current value estimate.\n",
    "        outcome_key (Tuple[jax.typing.ArrayLike, jax.random.PRNGKey]): A tuple containing the outcome and the PRNG key.\n",
    "        alpha_p (float): The learning rate for positive outcomes.\n",
    "        alpha_n (float): The learning rate for negative outcomes.\n",
    "        temperature (float): The temperature parameter for softmax function.\n",
    "        n_actions (int): The number of actions to choose from.\n",
    "\n",
    "    Returns:\n",
    "        Tuple[np.ndarray, Tuple[jax.typing.ArrayLike, np.ndarray, int, np.ndarray]]:\n",
    "            - updated_value (jnp.ndarray): The updated value estimate.\n",
    "            - output_tuple (Tuple[jax.typing.ArrayLike, np.ndarray, int, np.ndarray]):\n",
    "                - value (jax.typing.ArrayLike): The original value estimate.\n",
    "                - choice_p (jnp.ndarray): The choice probabilities.\n",
    "                - choice (int): The chosen action.\n",
    "                - choice_array (jnp.ndarray): The chosen action in one-hot format.\n",
    "    \"\"\"\n",
    "\n",
    "    # Unpack outcome and key\n",
    "    outcome, key = outcome_key\n",
    "\n",
    "    # Get choice probabilities\n",
    "    choice_p = softmax(value[None, :], temperature).squeeze()\n",
    "\n",
    "    # Get choice\n",
    "    choice = choice_from_action_p(key, choice_p)\n",
    "\n",
    "    # Convert it to one-hot format\n",
    "    choice_array = jnp.zeros(n_actions, dtype=jnp.int16)\n",
    "    choice_array = choice_array.at[choice].set(1)\n",
    "\n",
    "    # Get the outcome and update the value estimate\n",
    "    updated_value, (value, prediction_error) = asymmetric_rescorla_wagner_update(\n",
    "        value,\n",
    "        (outcome, choice_array),\n",
    "        alpha_p,\n",
    "        alpha_n,\n",
    "    )\n",
    "\n",
    "    return updated_value, (value, choice_p, choice_array, prediction_error)\n",
    "\n",
    "asymmetric_rescorla_wagner_update_choice = jax.jit(asymmetric_rescorla_wagner_update_choice, static_argnums=(5,))\n",
    "\n",
    "def asymmetric_rescorla_wagner_update_choice_iterator(\n",
    "    outcomes: jax.typing.ArrayLike,\n",
    "    alpha_p: float,\n",
    "    alpha_n: float,\n",
    "    temperature: float,\n",
    "    n_actions: int,\n",
    "    key: jax.random.PRNGKey,\n",
    ") -> Tuple[jnp.ndarray, jnp.ndarray, jnp.ndarray, jnp.ndarray]:\n",
    "    \"\"\"\n",
    "    Updates the value estimates using the asymmetric Rescorla-Wagner algorithm and generates choices for each trial.\n",
    "\n",
    "    Args:\n",
    "        outcomes (jax.typing.ArrayLike): The outcomes for each trial.\n",
    "        alpha_p (float): The learning rate for positive outcomes.\n",
    "        alpha_n (float): The learning rate for negative outcomes.\n",
    "        temperature (float): The temperature parameter for the softmax function.\n",
    "        n_actions (int): The number of actions to choose from.\n",
    "        key (jax.random.PRNGKey): The random key.\n",
    "\n",
    "    Returns:\n",
    "        Tuple[jnp.ndarray, jnp.ndarray, jnp.ndarray, jnp.ndarray]:\n",
    "            - values (jnp.ndarray): The value estimates.\n",
    "            - choice_ps (jnp.ndarray): The choice probabilities.\n",
    "            - choices (jnp.ndarray): The chosen actions.\n",
    "            - prediction_errors (jnp.ndarray): The prediction errors.\n",
    "    \"\"\"\n",
    "\n",
    "    # Use partial to create a function with fixed parameters\n",
    "    asymmetric_rescorla_wagner_update_choice_partial = partial(\n",
    "        asymmetric_rescorla_wagner_update_choice,\n",
    "        alpha_p=alpha_p,\n",
    "        alpha_n=alpha_n,\n",
    "        temperature=temperature,\n",
    "        n_actions=n_actions,\n",
    "    )\n",
    "\n",
    "    # Generate random keys using JAX\n",
    "    keys = jax.random.split(key, N_TRIALS)\n",
    "\n",
    "    # Initialize the value estimates\n",
    "    value = jnp.ones(5) * 0.5\n",
    "\n",
    "    # Loop using scan\n",
    "    _, (values, choice_ps, choices, prediction_errors) = jax.lax.scan(\n",
    "        asymmetric_rescorla_wagner_update_choice_partial,\n",
    "        value,\n",
    "        (outcomes, keys),\n",
    "    )\n",
    "\n",
    "    return values, choice_ps, choices, prediction_errors\n",
    "\n",
    "# JIT\n",
    "asymmetric_rescorla_wagner_update_choice_iterator = jax.jit(asymmetric_rescorla_wagner_update_choice_iterator, static_argnums=(4,))\n",
    "\n",
    "asymmetric_rescorla_wagner_update_choice_iterator_vmap = jax.vmap(\n",
    "    asymmetric_rescorla_wagner_update_choice_iterator,\n",
    "    in_axes=(None, 0, 0, 0, None, None),\n",
    ")"
   ]
  },
  {
   "cell_type": "markdown",
   "metadata": {},
   "source": [
    "## Simulate some data\n",
    "\n",
    "We'll start by simulating some data from the model we've defined. We'll generate some parameter values for each of our simulated \"subjects\", and then generate some simulated choices for each subject.\n",
    "\n",
    "We're going to generate parameter values using appropriate distributions. The `alpha_p` and `alpha_n` parameters will be drawn from a Beta distribution since their values lie between 0 and 1, while the `temperature` parameter will be drawn from an exponential distribution. This is because the `temperature` parameter is always positive, and the exponential distribution is a good choice for positive-valued parameters.\n",
    "\n",
    "> **NOTE**: We don't need any of the other variables returned by the model here, so we'll just ignore them."
   ]
  },
  {
   "cell_type": "code",
   "execution_count": 48,
   "metadata": {},
   "outputs": [],
   "source": [
    "# Number of subjects\n",
    "N_SUBJECTS = 40\n",
    "\n",
    "# Generate parameter values for each subject\n",
    "rng = np.random.default_rng(0)\n",
    "alpha_p = rng.beta(5, 5, size=N_SUBJECTS)\n",
    "alpha_n = rng.beta(5, 5, size=N_SUBJECTS)\n",
    "temperature = rng.beta(5, 5, size=N_SUBJECTS)\n",
    "\n",
    "# Number of trials\n",
    "N_TRIALS = 200\n",
    "\n",
    "# Reward probabilities for each of our 5 actions\n",
    "reward_probs = jnp.array([0.2, 0.4, 0.8, 0.1, 0.5])\n",
    "\n",
    "# Generate rewards for each trial for each action using Numpy\n",
    "# There's no need to use JAX for this\n",
    "rng = np.random.default_rng(0)\n",
    "rewards = rng.binomial(n=1, p=reward_probs, size=(N_TRIALS, len(reward_probs)))\n",
    "\n",
    "# Run the model for each subject\n",
    "_, _, choices, _ = asymmetric_rescorla_wagner_update_choice_iterator_vmap(\n",
    "    rewards,\n",
    "    alpha_p,\n",
    "    alpha_n,\n",
    "    temperature,\n",
    "    5,\n",
    "    jax.random.PRNGKey(0),\n",
    ")"
   ]
  },
  {
   "cell_type": "markdown",
   "metadata": {},
   "source": [
    "## Set up another function for model fitting\n",
    "\n",
    "Our current implementation simulates **choices** for each trial based on the current expected value. However, when we're fitting the model we won't want to do this. This is because we want to fit the model to the actual choices made by the subject, rather than the choices that the model would make (you could do this, but it generally works poorly) - we're essentially saying \"_given_ this option was chosen on the previous trial, how close is the model's prediction for the next choice to the actual choice made?\".\n",
    "\n",
    "This means we want our model to return the expected value for each option on each trial, given the observed choice, rather than generating a choice and updating based on that choice.\n",
    "\n",
    "For this reason, we'll use our original `asymmetric_rescorla_wagner_update` function and do the same as before to make it run across all trials for all subjects. As mentioned above, we've modified this function slightly to make it more compatible with `jax.lax.scan`.\n",
    "\n",
    "We can ignore the softmax function here as we don't need to generate choices for each trial sequentially, and this can be applied to our estimated values at the end."
   ]
  },
  {
   "cell_type": "code",
   "execution_count": 49,
   "metadata": {},
   "outputs": [],
   "source": [
    "@jax.jit\n",
    "def asymmetric_rescorla_wagner_update_iterator(\n",
    "    outcomes: jax.typing.ArrayLike,\n",
    "    choices: jax.typing.ArrayLike,\n",
    "    alpha_p: float,\n",
    "    alpha_n: float,\n",
    ") -> Tuple[jnp.ndarray, jnp.ndarray, jnp.ndarray, jnp.ndarray]:\n",
    "    \"\"\"\n",
    "    Updates the value estimates using the asymmetric Rescorla-Wagner algorithm.\n",
    "\n",
    "    Args:\n",
    "        outcomes (jax.typing.ArrayLike): The outcomes for each trial.\n",
    "        alpha_p (float): The learning rate for positive outcomes.\n",
    "        alpha_n (float): The learning rate for negative outcomes.\n",
    "\n",
    "    Returns:\n",
    "        Tuple[jnp.ndarray, jnp.ndarray]:\n",
    "            - values (jnp.ndarray): The value estimates.\n",
    "            - prediction_errors (jnp.ndarray): The prediction errors.\n",
    "    \"\"\"\n",
    "\n",
    "    # Use partial to create a function with fixed parameters\n",
    "    asymmetric_rescorla_wagner_update_partial = partial(\n",
    "        asymmetric_rescorla_wagner_update,\n",
    "        alpha_p=alpha_p,\n",
    "        alpha_n=alpha_n,\n",
    "    )\n",
    "\n",
    "    # Initialize the value estimates\n",
    "    value = jnp.ones(5) * 0.5\n",
    "\n",
    "    # Loop using scan\n",
    "    _, (values, prediction_errors) = jax.lax.scan(\n",
    "        asymmetric_rescorla_wagner_update_partial,\n",
    "        value,\n",
    "        (outcomes, choices),\n",
    "    )\n",
    "\n",
    "    return values, prediction_errors\n",
    "\n",
    "asymmetric_rescorla_wagner_update_iterator_vmap = jax.vmap(\n",
    "    asymmetric_rescorla_wagner_update_iterator,\n",
    "    in_axes=(None, 0, 0, 0),\n",
    ")"
   ]
  },
  {
   "cell_type": "markdown",
   "metadata": {},
   "source": [
    "In contrast to the functions above which randomly make choices on each trial, we're passing in `choices` as an argument, which is a `(n_trials, n_actions)` array of choices made on each trial.\n",
    "\n",
    "Our `vmap` function will then apply this function to each subject, and we can use this to calculate the log likelihood of the data given the model parameters. As before, the rewards are the same for every subject, so we set the corresponding value for `in_axes` to `None`. The remaining arguments are the choices and parameters, which differ for every subject - for this reason, we set the corresponding value for `in_axes` to `0`.\n",
    "\n",
    "As with our other `vmap`-ed functions, we can then use this to simulate expected values for each trial for each subject. We don't need the prediction errors here, so we'll only assign the expected values to a variable (assigning the prediction errors to `_`)."
   ]
  },
  {
   "cell_type": "code",
   "execution_count": 50,
   "metadata": {},
   "outputs": [],
   "source": [
    "# Run the model for each subject\n",
    "values, _ = asymmetric_rescorla_wagner_update_iterator_vmap(\n",
    "    rewards,\n",
    "    choices,\n",
    "    alpha_p,\n",
    "    alpha_n,\n",
    ")"
   ]
  },
  {
   "cell_type": "markdown",
   "metadata": {},
   "source": [
    "### Applying the softmax function\n",
    "\n",
    "As mentioned above, we don't need to apply the softmax function to generate choices, but we will need to apply it to our expected values to calculate the _probability_ of the observed choices given the data. We can do this by applying the softmax function to the expected values for each subject once they have been calculated, as we don't need them to be calculated for each trial sequentially.\n",
    "\n",
    "The `softmax` function is designed to calculate choice probabilities for a single subject, we we'll again use `vmap` to map it over subjects."
   ]
  },
  {
   "cell_type": "code",
   "execution_count": 51,
   "metadata": {},
   "outputs": [],
   "source": [
    "choice_p = jax.vmap(softmax, in_axes=(0, 0))(values, temperature)"
   ]
  },
  {
   "cell_type": "markdown",
   "metadata": {},
   "source": [
    "## Set up the statistical model\n",
    "\n",
    "As described [in this guide](/docs/computational_modelling/guide/3.-mcmc-sampling/#creating-a-numpyro-model), the model we've implemented so far is our **behavioural model** - it generates simulated behaviour based on a set of parameters. We want to estimate parameter values for this model for each subject in our dataset - to do this we need to set up a **statistical model**, which describes how we think the parameters are distributed across subjects.\n",
    "\n",
    "We will do this using [NumPyro](https://num.pyro.ai/), which is a probabilistic programming library built on top of JAX. This will allow us to use MCMC to estimate the parameters of our model.\n",
    "\n",
    "### Building a hierarchical model for our parameters\n",
    "\n",
    "We will use a hiearchical modelling approach using a non-centred parameterisation (as described [in this guide](/docs/computational_modelling/guide/4.-hierarchical-models/)) to estimate the parameters of our model. This assumes that each subject is drawn from a group rather than being completely independent, and uses the information from the group to improve the estimates of the individual subjects.\n",
    "\n",
    "We have **three parameters** that we want to estimate:\n",
    "* `alpha_p` - the learning rate for positive prediction errors. This parameter takes values between 0 and 1.\n",
    "* `alpha_n` - the learning rate for negative prediction errors. This parameter takes values between 0 and 1.\n",
    "* `temperature` - the temperature parameter for the softmax function. This parameter takes values between 0 and infinity.\n",
    "\n",
    "It is often easiest to estimate parameters whose values lie within clear ranges, whereas the softmax temperature parameter can take any positive value. To make this easier to estimate, we can sample within the range 0-1 and then transform it to the range 0-infinity using the reciprocal function:\n",
    "\n",
    "$$\n",
    "\\text{temperature} = \\frac{1}{\\text{temperature}}\n",
    "$$\n",
    "\n",
    "### Create a function for generating non-centred parameterisations\n",
    "\n",
    "We need to set up each parameter using a non-centred parameterisation, which means that each parameter is composed of three separate components:\n",
    "* A group-level parameter mean `mu` which is drawn from a normal distribution with mean 0 and standard deviation 1, with one value for all subjects.\n",
    "* A group-level parameter standard deviation `sigma`, which is drawn from a half-normal distribution with a scale parameter of 1, with one value for all subjects.\n",
    "* A subject-level parameter `offset` which is drawn from a normal distribution with mean 0 and standard deviation 1, with one value for each subject.\n",
    "\n",
    "The subject-level parameter is then calculated as:\n",
    "```python\n",
    "subject_parameter = mu + sigma * offset\n",
    "```\n",
    "\n",
    "Creating these componenets for every parameter can be quite repetitive, so we'll create a function to do this for us."
   ]
  },
  {
   "cell_type": "code",
   "execution_count": 52,
   "metadata": {},
   "outputs": [],
   "source": [
    "import numpyro\n",
    "\n",
    "def create_subject_params(\n",
    "    name: str, n_subs: int\n",
    ") -> Union[dist.Normal, dist.HalfNormal, dist.Normal]:\n",
    "    \"\"\"\n",
    "    Creates group mean, group sd and subject-level offset parameters.\n",
    "    Args:\n",
    "        name (str): Name of the parameter\n",
    "        n_subs (int): Number of subjects\n",
    "    Returns:\n",
    "        Union[dist.Normal, dist.HalfNormal, dist.Normal]: Group mean, group sd, and subject-level offset parameters\n",
    "    \"\"\"\n",
    "\n",
    "    # Group-level mean and SD\n",
    "    group_mean = numpyro.sample(\"{0}_group_mean\".format(name), dist.Normal(0, 1))\n",
    "    group_sd = numpyro.sample(\"{0}_group_sd\".format(name), dist.HalfNormal(1))\n",
    "\n",
    "    # Subject-level offset\n",
    "    offset = numpyro.sample(\n",
    "        \"{0}_subject_offset\".format(name), dist.Normal(0, 1), sample_shape=(n_subs,)  # One value per subject\n",
    "    )\n",
    "\n",
    "    # Calculate subject-level parameter\n",
    "    subject_param = numpyro.deterministic(\"{0}_subject_param\".format(name), group_mean + offset * group_sd)\n",
    "\n",
    "    return subject_param\n"
   ]
  },
  {
   "cell_type": "markdown",
   "metadata": {},
   "source": [
    "This function generates the three components of the non-centred parameterisation for a single parameter, given the name of the parameter and the number of subjects. It then uses these to form the subject-level parameter value for each subject.\n",
    "\n",
    "We use `numpyro.deterministic` to create a deterministic variable in the model, which is a variable that is not sampled from, but is instead calculated from other variables in the model. This is useful for creating variables that are derived from other variables in the model, but that we don't want to sample from directly. We could instead do something like:\n",
    "\n",
    "```python\n",
    "return group_mean + offset * group_std\n",
    "```\n",
    "\n",
    "But this would mean that the subject-level parameter wouldn't actually be stored, and this is the parameter whose value we actually care about.\n",
    "\n",
    "We could also adjust the priors on these parameters, but these values should all work reasonably well for our purposes."
   ]
  },
  {
   "cell_type": "markdown",
   "metadata": {},
   "source": [
    "### Bounding our parameters\n",
    "\n",
    "As it stands, this approach will generate parameters that are unbounded, which is not ideal for our purposes as all of our parameters will be estimated in the range 0-1. One way to do this is to use a transforamtion that brings the parameters into the range 0-1. This is a common approach in Bayesian modelling, as it allows us to estimate parameters in an unbounded space, but then transform them to a bounded space.\n",
    "\n",
    "We can add this to the function using the `jax.scipy.special.expit` function, which is the inverse of the logit function. This function transforms any value to the range 0-1, which is perfect for our purposes."
   ]
  },
  {
   "cell_type": "code",
   "execution_count": 53,
   "metadata": {},
   "outputs": [],
   "source": [
    "def create_subject_params(\n",
    "    name: str, n_subs: int\n",
    ") -> Union[dist.Normal, dist.HalfNormal, dist.Normal]:\n",
    "    \"\"\"\n",
    "    Creates group mean, group sd and subject-level offset parameters.\n",
    "    Args:\n",
    "        name (str): Name of the parameter\n",
    "        n_subs (int): Number of subjects\n",
    "    Returns:\n",
    "        jnp.array: Subject-level parameter for each subject\n",
    "    \"\"\"\n",
    "\n",
    "    # Group-level mean and SD\n",
    "    group_mean = numpyro.sample(\"{0}_group_mean\".format(name), dist.Normal(0, 0.5))\n",
    "    group_sd = numpyro.sample(\"{0}_group_sd\".format(name), dist.HalfNormal(0.5))\n",
    "\n",
    "    # Subject-level offset\n",
    "    offset = numpyro.sample(\n",
    "        \"{0}_subject_offset\".format(name),\n",
    "        dist.Normal(0, 0.5),\n",
    "        sample_shape=(n_subs,),  # One value per subject\n",
    "    )\n",
    "\n",
    "    # Calculate subject-level parameter\n",
    "    subject_param = numpyro.deterministic(\n",
    "        \"{0}_subject_param\".format(name),\n",
    "        jax.scipy.special.expit(group_mean + offset * group_sd),\n",
    "    )\n",
    "\n",
    "    return subject_param"
   ]
  },
  {
   "cell_type": "markdown",
   "metadata": {},
   "source": [
    "The subject-level parameter is now calculated as:\n",
    "\n",
    "```python\n",
    "jax.scipy.special.expit(group_mean + offset * group_sd)\n",
    "```\n",
    "\n",
    "As a quick demonstration of how this works, we can generate some random values and transform them. We can see that the transformed values are all between 0 and 1."
   ]
  },
  {
   "cell_type": "code",
   "execution_count": 54,
   "metadata": {},
   "outputs": [
    {
     "data": {
      "text/plain": [
       "(array([ 6.,  5.,  7., 14., 19., 28., 43., 46., 32., 46., 50., 55., 51.,\n",
       "        57., 52., 45., 49., 43., 53., 44., 36., 50., 27., 36., 39., 22.,\n",
       "        20., 13.,  9.,  3.]),\n",
       " array([0.01985156, 0.05103884, 0.08222611, 0.11341339, 0.14460067,\n",
       "        0.17578794, 0.20697522, 0.2381625 , 0.26934978, 0.30053705,\n",
       "        0.33172435, 0.36291161, 0.39409891, 0.42528617, 0.45647344,\n",
       "        0.48766074, 0.518848  , 0.5500353 , 0.58122259, 0.61240983,\n",
       "        0.64359713, 0.67478442, 0.70597166, 0.73715895, 0.76834625,\n",
       "        0.79953349, 0.83072078, 0.86190808, 0.89309537, 0.92428261,\n",
       "        0.95546991]),\n",
       " <BarContainer object of 30 artists>)"
      ]
     },
     "execution_count": 54,
     "metadata": {},
     "output_type": "execute_result"
    },
    {
     "data": {
      "image/png": "[encoded data removed]",
      "text/plain": [
       "<Figure size 640x480 with 1 Axes>"
      ]
     },
     "metadata": {},
     "output_type": "display_data"
    }
   ],
   "source": [
    "# Sample from a normal distribution\n",
    "rng = np.random.default_rng(0)\n",
    "x = rng.normal(0, 1, size=1000)\n",
    "\n",
    "# Plot the histogram of the untransformed data\n",
    "plt.hist(x)\n",
    "\n",
    "# Plot the histogram of the transformed data\n",
    "plt.hist(jax.scipy.special.expit(x), bins=30)"
   ]
  },
  {
   "cell_type": "markdown",
   "metadata": {},
   "source": [
    "### Putting the model together\n",
    "\n",
    "We can now write a function that encapsulates the statistical model for our parameters:"
   ]
  },
  {
   "cell_type": "code",
   "execution_count": 55,
   "metadata": {},
   "outputs": [],
   "source": [
    "def asymmetric_rescorla_wagner_statistical_model(\n",
    "    outcomes: jnp.ndarray,\n",
    "    choices: jnp.ndarray,\n",
    ") -> None:\n",
    "    \"\"\"\n",
    "    Asymmetric Rescorla-Wagner model for NumPyro.\n",
    "\n",
    "    This forms a hierarchical model using non-centred parameterisation.\n",
    "\n",
    "    Args:\n",
    "        outcomes (jnp.ndarray): The outcomes for each trial.\n",
    "        choices (jnp.ndarray): The choices for each trial.\n",
    "\n",
    "    Returns:\n",
    "        None: The function does not return anything; it only samples from the model.\n",
    "    \"\"\"\n",
    "\n",
    "    # Get number of subjects based on choices\n",
    "    n_subs = choices.shape[0]\n",
    "\n",
    "    # Create subject-level parameters\n",
    "    alpha_p = create_subject_params(\"alpha_p\", n_subs)\n",
    "    alpha_n = create_subject_params(\"alpha_n\", n_subs)\n",
    "    temperature = create_subject_params(\"temperature\", n_subs)\n",
    "\n",
    "\n",
    "    # Run the model for each subject\n",
    "    values, _ = asymmetric_rescorla_wagner_update_iterator_vmap(\n",
    "        rewards,\n",
    "        choices,\n",
    "        alpha_p,\n",
    "        alpha_n,\n",
    "    )\n",
    "\n",
    "    # Get choice probabilities using inverse temperature\n",
    "    choice_p = jax.vmap(softmax, in_axes=(0, 0))(values, temperature)\n",
    "\n",
    "    # Bernoulli likelihood\n",
    "    numpyro.sample(\n",
    "        \"observed_choices\",\n",
    "        dist.Bernoulli(probs=choice_p),\n",
    "        obs=choices,\n",
    "    )"
   ]
  },
  {
   "cell_type": "markdown",
   "metadata": {},
   "source": [
    "Let's break this down a bit:\n",
    "\n",
    "#### 1. We enter the outcomes and observed choices\n",
    "\n",
    "```python\n",
    "def asymmetric_rescorla_wagner_statistical_model(\n",
    "    outcomes: jnp.ndarray,\n",
    "    choices: jnp.ndarray,\n",
    ") -> None:\n",
    "```\n",
    "\n",
    "We provide the observed outcomes, which are used by our model to calculate prediction errors and update expected value estimates. We also provide the observed choices, which are the choices made by the subject on each trial that we use to calculate the likelihood of the data given the model.\n",
    "\n",
    "#### 2. We set up priors for our parameters \n",
    "\n",
    "```python\n",
    "alpha_p = create_subject_params(\"alpha_p\", n_subs)\n",
    "alpha_n = create_subject_params(\"alpha_n\", n_subs)\n",
    "temperature = create_subject_params(\"temperature\", n_subs)\n",
    "```\n",
    "\n",
    "The priors on our parameters are generated using the function we defined above to create non-centred parameterisations for each parameter. All of these are estimated in the range 0-1.\n",
    "\n",
    "#### 3. We calculate the expected values for each subject\n",
    "\n",
    "Next, we feed these parameters, along with the subjects' choices, into our **behavioural model** to estimate expected values for each subject. We use the `vmap`-ed version of our model to apply it to each subject.\n",
    "\n",
    "```python\n",
    "values, _ = asymmetric_rescorla_wagner_update_iterator_vmap(\n",
    "    rewards,\n",
    "    choices,\n",
    "    alpha_p,\n",
    "    alpha_n,\n",
    ")\n",
    "```\n",
    "\n",
    "#### 4. We apply the softmax function to the expected values\n",
    "\n",
    "```python\n",
    "choice_p = jax.vmap(softmax, in_axes=(0, 0))(values, 1 / temperature)\n",
    "```\n",
    "\n",
    "We then apply the softmax function to the expected values for each subject, using the temperature parameter for each subject. This gives us the probability of each action being chosen on each trial. We take the reciprocal of the temperature parameter to transform it back to the range 0-infinity.\n",
    "\n",
    "#### 5. We calculate the likelihood of the data given the model\n",
    "\n",
    "```python\n",
    "numpyro.sample(\n",
    "    \"observed_choices\",\n",
    "    dist.Bernoulli(probs=choice_p),\n",
    "    obs=choices,\n",
    ")\n",
    "```\n",
    "\n",
    "Finally, we calculate the likelihood of the observed choices given the model. We use a Bernoulli distribution to model the likelihood of the observed choices, with the probability of each choice being given by the softmax function applied to the expected values. The Bernoulli distribution is a good choice for binary data, as it models the probability of a single binary outcome."
   ]
  },
  {
   "cell_type": "markdown",
   "metadata": {},
   "source": [
    "## Sampling\n",
    "\n",
    "Now that we have our model set up, we can sample from it using MCMC. We'll use the `NUTS` sampler, which is a good general-purpose sampler that works well for many models.\n",
    "\n",
    "There are few important settings for the sampler that it's worth being aware of:\n",
    "* `num_warmup` - the number of warmup steps to take. This is the number of steps the sampler takes to \"warm up\" before it starts sampling. During warmup, the sampler adapts its step size and other parameters to try to find a good region of the parameter space to sample from.\n",
    "* `num_samples` - the number of samples to take after warmup. This is the number of samples that the sampler will take after warmup to estimate the posterior distribution.\n",
    "* `num_chains` - the number of chains to run. Running multiple chains can help to diagnose problems with the sampler, as you can compare the results from different chains to see if they agree.  \n",
    "\n",
    "Here, we'll set the number of warmups and samples to a lower number for the sake of speed, but in practice you would want to run more warmup and samples to get a better estimate of the posterior distribution."
   ]
  },
  {
   "cell_type": "code",
   "execution_count": 62,
   "metadata": {},
   "outputs": [
    {
     "data": {
      "application/vnd.jupyter.widget-view+json": {
       "model_id": "7d27dd79a28347a6b45e70dae589f19c",
       "version_major": 2,
       "version_minor": 0
      },
      "text/plain": [
       "  0%|          | 0/6000 [00:00<?, ?it/s]"
      ]
     },
     "metadata": {},
     "output_type": "display_data"
    },
    {
     "data": {
      "application/vnd.jupyter.widget-view+json": {
       "model_id": "59986ee3ad0c48758e96e5cfb881ff7b",
       "version_major": 2,
       "version_minor": 0
      },
      "text/plain": [
       "  0%|          | 0/6000 [00:00<?, ?it/s]"
      ]
     },
     "metadata": {},
     "output_type": "display_data"
    },
    {
     "data": {
      "application/vnd.jupyter.widget-view+json": {
       "model_id": "9f2914c82a5e431d9b97fafc392cc845",
       "version_major": 2,
       "version_minor": 0
      },
      "text/plain": [
       "  0%|          | 0/6000 [00:00<?, ?it/s]"
      ]
     },
     "metadata": {},
     "output_type": "display_data"
    },
    {
     "data": {
      "application/vnd.jupyter.widget-view+json": {
       "model_id": "43144c9003c74d92ac8049989f68696d",
       "version_major": 2,
       "version_minor": 0
      },
      "text/plain": [
       "  0%|          | 0/6000 [00:00<?, ?it/s]"
      ]
     },
     "metadata": {},
     "output_type": "display_data"
    }
   ],
   "source": [
    "from numpyro.infer import MCMC, NUTS\n",
    "\n",
    "# Sampling settings\n",
    "N_SAMPLES = 4000  # This should be higher in practice\n",
    "N_WARMUP = 2000  # This should be higher in practice\n",
    "N_CHAINS = 4\n",
    "\n",
    "# Set up the NUTS sampler for our model\n",
    "nuts_kernel = NUTS(asymmetric_rescorla_wagner_statistical_model)\n",
    "\n",
    "# Set up the MCMC object\n",
    "mcmc = MCMC(\n",
    "    nuts_kernel, num_samples=N_SAMPLES, num_warmup=N_WARMUP, num_chains=N_CHAINS\n",
    ")\n",
    "\n",
    "# Set the random key for sampling\n",
    "rng_key = jax.random.PRNGKey(0)\n",
    "\n",
    "# Run the sampler\n",
    "mcmc.run(rng_key, rewards, choices)\n",
    "\n",
    "# Get the samples\n",
    "samples = mcmc.get_samples()"
   ]
  },
  {
   "cell_type": "markdown",
   "metadata": {},
   "source": [
    "## Diagnostics\n",
    "\n",
    "It's worth checking that the sampling procedure has gone as it should do. There are various ways to do this, many of which are implemented in [Arviz](https://python.arviz.org/en/latest/api/diagnostics.html), and we won't cover them in detail here. One quick check we can run is to look at the traceplot of the samples, which shows the value of each parameter over the course of the sampling procedure. This can give us a sense of whether the sampler has converged to the posterior distribution."
   ]
  },
  {
   "cell_type": "code",
   "execution_count": 63,
   "metadata": {},
   "outputs": [],
   "source": [
    "# TO BE IMPLEMENTED"
   ]
  },
  {
   "cell_type": "markdown",
   "metadata": {},
   "source": [
    "## Parameter recovery\n",
    "\n",
    "We can also check how well our model **recovers** true parameter values. Because we have fit it to simulated data here, we can compare the estimated parameter values to the true parameter values we used to generate the data. This can give us a sense of how well our model is able to recover the true parameters.\n",
    "\n",
    "Some useful functions for doing this are included in our [`model_fit_tools`](https://github.com/tobywise/model-fit-tools) package. For example, we can easily plot the estimated parameter values against the true parameter values to see how well they match up using the `plot_recovery` function."
   ]
  },
  {
   "cell_type": "code",
   "execution_count": 74,
   "metadata": {},
   "outputs": [
    {
     "data": {
      "image/png": "[encoded data removed]",
      "text/plain": [
       "<Figure size 699.9x280 with 3 Axes>"
      ]
     },
     "metadata": {},
     "output_type": "display_data"
    }
   ],
   "source": [
    "from model_fit_tools.plotting import plot_recovery\n",
    "\n",
    "# Plot the recovery of thhe parameters\n",
    "plot_recovery(\n",
    "    np.stack([alpha_p, alpha_n, temperature]).T,\n",
    "    np.dstack([samples['alpha_p_subject_param'], samples['alpha_n_subject_param'], samples['temperature_subject_param']]),\n",
    "    [\"alpha_p\", \"alpha_n\", \"temperature\"],\n",
    ")"
   ]
  },
  {
   "cell_type": "markdown",
   "metadata": {},
   "source": [
    "As you can see, the values are correlated but they're not perfect (in particular, the range of values for `alpha_` is quite constrained). This is likely due to the fact that the \"task\" here is not really designed to be a good test of the model."
   ]
  },
  {
   "cell_type": "markdown",
   "metadata": {},
   "source": []
  }
 ],
 "metadata": {
  "kernelspec": {
   "display_name": "tu_test",
   "language": "python",
   "name": "tu_test"
  },
  "language_info": {
   "codemirror_mode": {
    "name": "ipython",
    "version": 3
   },
   "file_extension": ".py",
   "mimetype": "text/x-python",
   "name": "python",
   "nbconvert_exporter": "python",
   "pygments_lexer": "ipython3",
   "version": "3.9.18"
  }
 },
 "nbformat": 4,
 "nbformat_minor": 2
}
